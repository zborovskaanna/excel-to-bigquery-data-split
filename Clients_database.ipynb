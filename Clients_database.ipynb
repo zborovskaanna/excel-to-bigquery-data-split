{
 "cells": [
  {
   "cell_type": "code",
   "execution_count": 80,
   "metadata": {
    "id": "gEqs72VVM_ql"
   },
   "outputs": [],
   "source": [
    "from google.colab import auth\n",
    "auth.authenticate_user()\n",
    "\n",
    "from google.cloud import bigquery\n",
    "import numpy as np\n",
    "import pandas as pd\n",
    "from google.colab import files\n",
    "from pandas_gbq import to_gbq\n",
    "\n",
    "\n",
    "client = bigquery.Client(project='database-project-431312')"
   ]
  },
  {
   "cell_type": "code",
   "execution_count": 81,
   "metadata": {
    "colab": {
     "base_uri": "https://localhost:8080/"
    },
    "id": "MGG0Agb_Uf8H",
    "outputId": "2a0b88df-fcf5-40f2-f412-afde4900fcd8"
   },
   "outputs": [
    {
     "name": "stdout",
     "output_type": "stream",
     "text": [
      "Table created successfully.\n"
     ]
    }
   ],
   "source": [
    "# Tables criation\n",
    "# Contract\n",
    "create_table_contract = \"\"\"\n",
    "CREATE TABLE `database-project-431312.clients.Contract` (\n",
    "    Id INT64 NOT NULL,\n",
    "    ProjectName STRING,\n",
    "    ContractNum STRING,\n",
    "    Outstanding FLOAT64\n",
    ")\n",
    "\"\"\"\n",
    "\n",
    "query_job = client.query(create_table_contract)\n",
    "query_job.result()\n",
    "print(\"Table created successfully.\")\n"
   ]
  },
  {
   "cell_type": "code",
   "execution_count": 83,
   "metadata": {
    "colab": {
     "base_uri": "https://localhost:8080/"
    },
    "id": "8nuasBEOV2nC",
    "outputId": "5e96cca4-62a4-468a-f492-cb93a758f56f"
   },
   "outputs": [
    {
     "name": "stdout",
     "output_type": "stream",
     "text": [
      "Table created successfully.\n"
     ]
    }
   ],
   "source": [
    "# ContractClient\n",
    "create_table_contract_client = \"\"\"\n",
    "CREATE TABLE `database-project-431312.clients.ContractClient` (\n",
    "    Id INT64 NOT NULL,\n",
    "    ContractId INT64,\n",
    "    ClientId INT64,\n",
    "    ClientType STRING\n",
    ")\n",
    "\"\"\"\n",
    "\n",
    "query_job = client.query(create_table_contract_client)\n",
    "query_job.result()\n",
    "\n",
    "print(\"Table created successfully.\")"
   ]
  },
  {
   "cell_type": "code",
   "execution_count": 84,
   "metadata": {
    "colab": {
     "base_uri": "https://localhost:8080/"
    },
    "id": "QFJ0g4VQX6jd",
    "outputId": "26898091-4589-4037-d76b-2ee79cb5974f"
   },
   "outputs": [
    {
     "name": "stdout",
     "output_type": "stream",
     "text": [
      "Table created successfully.\n"
     ]
    }
   ],
   "source": [
    "# Client\n",
    "create_table_client = \"\"\"\n",
    "CREATE TABLE `database-project-431312.clients.Client` (\n",
    "    Id INT64 NOT NULL,\n",
    "    Surname STRING,\n",
    "    Name STRING,\n",
    "    SecondName STRING,\n",
    "    IdentificationNumber STRING\n",
    ")\n",
    "\"\"\"\n",
    "\n",
    "query_job = client.query(create_table_client)\n",
    "query_job.result()\n",
    "\n",
    "print(\"Table created successfully.\")"
   ]
  },
  {
   "cell_type": "code",
   "execution_count": 85,
   "metadata": {
    "colab": {
     "base_uri": "https://localhost:8080/"
    },
    "id": "Om8GZkruZBgy",
    "outputId": "94de297a-fa3f-4b4c-802c-ebae6ee3debc"
   },
   "outputs": [
    {
     "data": {
      "text/plain": [
       "<google.cloud.bigquery.table._EmptyRowIterator at 0x7b25b1198460>"
      ]
     },
     "execution_count": 85,
     "metadata": {},
     "output_type": "execute_result"
    }
   ],
   "source": [
    "# ClientProperty\n",
    "create_table_client_property = \"\"\"\n",
    "CREATE TABLE `database-project-431312.clients.ClientProperty` (\n",
    "    Id INT64 NOT NULL,\n",
    "    ClientId INT64,\n",
    "    PropertyId INT64\n",
    ")\n",
    "\"\"\"\n",
    "\n",
    "query_job = client.query(create_table_client_property)\n",
    "query_job.result()"
   ]
  },
  {
   "cell_type": "code",
   "execution_count": 88,
   "metadata": {
    "colab": {
     "base_uri": "https://localhost:8080/"
    },
    "id": "tU89a1_wGhM7",
    "outputId": "1569b60a-07ba-4d38-f041-56900d8f9bb2"
   },
   "outputs": [
    {
     "data": {
      "text/plain": [
       "<google.cloud.bigquery.table._EmptyRowIterator at 0x7b25b27b33a0>"
      ]
     },
     "execution_count": 88,
     "metadata": {},
     "output_type": "execute_result"
    }
   ],
   "source": [
    "# Property\n",
    "create_table_property = \"\"\"\n",
    "CREATE TABLE `database-project-431312.clients.Property` (\n",
    "    Id INT64 NOT NULL,\n",
    "    Region STRING,\n",
    "    PropertyType STRING,\n",
    "    PropertyArea FLOAT64,\n",
    "    PropertyPrice FLOAT64\n",
    ")\n",
    "\"\"\"\n",
    "\n",
    "query_job = client.query(create_table_property)\n",
    "query_job.result()\n"
   ]
  },
  {
   "cell_type": "code",
   "execution_count": 90,
   "metadata": {
    "colab": {
     "base_uri": "https://localhost:8080/"
    },
    "id": "7O34qoOCZzq7",
    "outputId": "0bbcb5e7-c5da-464c-9144-71b574e8d63f"
   },
   "outputs": [
    {
     "data": {
      "text/plain": [
       "<google.cloud.bigquery.table._EmptyRowIterator at 0x7b25b11996f0>"
      ]
     },
     "execution_count": 90,
     "metadata": {},
     "output_type": "execute_result"
    }
   ],
   "source": [
    "# Payments\n",
    "create_table_payments = \"\"\"\n",
    "CREATE TABLE `database-project-431312.clients.Payments` (\n",
    "    Id INT64 NOT NULL,\n",
    "    ContractId INT64,\n",
    "    PaymentDate DATE,\n",
    "    PaymentSum FLOAT64\n",
    ")\n",
    "\"\"\"\n",
    "\n",
    "query_job = client.query(create_table_payments)\n",
    "query_job.result()\n"
   ]
  },
  {
   "cell_type": "code",
   "execution_count": 91,
   "metadata": {
    "colab": {
     "base_uri": "https://localhost:8080/",
     "height": 74
    },
    "id": "ck0FmmeJwuxT",
    "outputId": "61b05d0f-f7e8-463c-95c4-5fa83440e5e3"
   },
   "outputs": [
    {
     "data": {
      "text/html": [
       "\n",
       "     <input type=\"file\" id=\"files-6a842f36-1945-42a1-bb0e-323d142d10b1\" name=\"files[]\" multiple disabled\n",
       "        style=\"border:none\" />\n",
       "     <output id=\"result-6a842f36-1945-42a1-bb0e-323d142d10b1\">\n",
       "      Upload widget is only available when the cell has been executed in the\n",
       "      current browser session. Please rerun this cell to enable.\n",
       "      </output>\n",
       "      <script>// Copyright 2017 Google LLC\n",
       "//\n",
       "// Licensed under the Apache License, Version 2.0 (the \"License\");\n",
       "// you may not use this file except in compliance with the License.\n",
       "// You may obtain a copy of the License at\n",
       "//\n",
       "//      http://www.apache.org/licenses/LICENSE-2.0\n",
       "//\n",
       "// Unless required by applicable law or agreed to in writing, software\n",
       "// distributed under the License is distributed on an \"AS IS\" BASIS,\n",
       "// WITHOUT WARRANTIES OR CONDITIONS OF ANY KIND, either express or implied.\n",
       "// See the License for the specific language governing permissions and\n",
       "// limitations under the License.\n",
       "\n",
       "/**\n",
       " * @fileoverview Helpers for google.colab Python module.\n",
       " */\n",
       "(function(scope) {\n",
       "function span(text, styleAttributes = {}) {\n",
       "  const element = document.createElement('span');\n",
       "  element.textContent = text;\n",
       "  for (const key of Object.keys(styleAttributes)) {\n",
       "    element.style[key] = styleAttributes[key];\n",
       "  }\n",
       "  return element;\n",
       "}\n",
       "\n",
       "// Max number of bytes which will be uploaded at a time.\n",
       "const MAX_PAYLOAD_SIZE = 100 * 1024;\n",
       "\n",
       "function _uploadFiles(inputId, outputId) {\n",
       "  const steps = uploadFilesStep(inputId, outputId);\n",
       "  const outputElement = document.getElementById(outputId);\n",
       "  // Cache steps on the outputElement to make it available for the next call\n",
       "  // to uploadFilesContinue from Python.\n",
       "  outputElement.steps = steps;\n",
       "\n",
       "  return _uploadFilesContinue(outputId);\n",
       "}\n",
       "\n",
       "// This is roughly an async generator (not supported in the browser yet),\n",
       "// where there are multiple asynchronous steps and the Python side is going\n",
       "// to poll for completion of each step.\n",
       "// This uses a Promise to block the python side on completion of each step,\n",
       "// then passes the result of the previous step as the input to the next step.\n",
       "function _uploadFilesContinue(outputId) {\n",
       "  const outputElement = document.getElementById(outputId);\n",
       "  const steps = outputElement.steps;\n",
       "\n",
       "  const next = steps.next(outputElement.lastPromiseValue);\n",
       "  return Promise.resolve(next.value.promise).then((value) => {\n",
       "    // Cache the last promise value to make it available to the next\n",
       "    // step of the generator.\n",
       "    outputElement.lastPromiseValue = value;\n",
       "    return next.value.response;\n",
       "  });\n",
       "}\n",
       "\n",
       "/**\n",
       " * Generator function which is called between each async step of the upload\n",
       " * process.\n",
       " * @param {string} inputId Element ID of the input file picker element.\n",
       " * @param {string} outputId Element ID of the output display.\n",
       " * @return {!Iterable<!Object>} Iterable of next steps.\n",
       " */\n",
       "function* uploadFilesStep(inputId, outputId) {\n",
       "  const inputElement = document.getElementById(inputId);\n",
       "  inputElement.disabled = false;\n",
       "\n",
       "  const outputElement = document.getElementById(outputId);\n",
       "  outputElement.innerHTML = '';\n",
       "\n",
       "  const pickedPromise = new Promise((resolve) => {\n",
       "    inputElement.addEventListener('change', (e) => {\n",
       "      resolve(e.target.files);\n",
       "    });\n",
       "  });\n",
       "\n",
       "  const cancel = document.createElement('button');\n",
       "  inputElement.parentElement.appendChild(cancel);\n",
       "  cancel.textContent = 'Cancel upload';\n",
       "  const cancelPromise = new Promise((resolve) => {\n",
       "    cancel.onclick = () => {\n",
       "      resolve(null);\n",
       "    };\n",
       "  });\n",
       "\n",
       "  // Wait for the user to pick the files.\n",
       "  const files = yield {\n",
       "    promise: Promise.race([pickedPromise, cancelPromise]),\n",
       "    response: {\n",
       "      action: 'starting',\n",
       "    }\n",
       "  };\n",
       "\n",
       "  cancel.remove();\n",
       "\n",
       "  // Disable the input element since further picks are not allowed.\n",
       "  inputElement.disabled = true;\n",
       "\n",
       "  if (!files) {\n",
       "    return {\n",
       "      response: {\n",
       "        action: 'complete',\n",
       "      }\n",
       "    };\n",
       "  }\n",
       "\n",
       "  for (const file of files) {\n",
       "    const li = document.createElement('li');\n",
       "    li.append(span(file.name, {fontWeight: 'bold'}));\n",
       "    li.append(span(\n",
       "        `(${file.type || 'n/a'}) - ${file.size} bytes, ` +\n",
       "        `last modified: ${\n",
       "            file.lastModifiedDate ? file.lastModifiedDate.toLocaleDateString() :\n",
       "                                    'n/a'} - `));\n",
       "    const percent = span('0% done');\n",
       "    li.appendChild(percent);\n",
       "\n",
       "    outputElement.appendChild(li);\n",
       "\n",
       "    const fileDataPromise = new Promise((resolve) => {\n",
       "      const reader = new FileReader();\n",
       "      reader.onload = (e) => {\n",
       "        resolve(e.target.result);\n",
       "      };\n",
       "      reader.readAsArrayBuffer(file);\n",
       "    });\n",
       "    // Wait for the data to be ready.\n",
       "    let fileData = yield {\n",
       "      promise: fileDataPromise,\n",
       "      response: {\n",
       "        action: 'continue',\n",
       "      }\n",
       "    };\n",
       "\n",
       "    // Use a chunked sending to avoid message size limits. See b/62115660.\n",
       "    let position = 0;\n",
       "    do {\n",
       "      const length = Math.min(fileData.byteLength - position, MAX_PAYLOAD_SIZE);\n",
       "      const chunk = new Uint8Array(fileData, position, length);\n",
       "      position += length;\n",
       "\n",
       "      const base64 = btoa(String.fromCharCode.apply(null, chunk));\n",
       "      yield {\n",
       "        response: {\n",
       "          action: 'append',\n",
       "          file: file.name,\n",
       "          data: base64,\n",
       "        },\n",
       "      };\n",
       "\n",
       "      let percentDone = fileData.byteLength === 0 ?\n",
       "          100 :\n",
       "          Math.round((position / fileData.byteLength) * 100);\n",
       "      percent.textContent = `${percentDone}% done`;\n",
       "\n",
       "    } while (position < fileData.byteLength);\n",
       "  }\n",
       "\n",
       "  // All done.\n",
       "  yield {\n",
       "    response: {\n",
       "      action: 'complete',\n",
       "    }\n",
       "  };\n",
       "}\n",
       "\n",
       "scope.google = scope.google || {};\n",
       "scope.google.colab = scope.google.colab || {};\n",
       "scope.google.colab._files = {\n",
       "  _uploadFiles,\n",
       "  _uploadFilesContinue,\n",
       "};\n",
       "})(self);\n",
       "</script> "
      ],
      "text/plain": [
       "<IPython.core.display.HTML object>"
      ]
     },
     "metadata": {},
     "output_type": "display_data"
    },
    {
     "name": "stdout",
     "output_type": "stream",
     "text": [
      "Saving clients_to_upload.xlsx to clients_to_upload (1).xlsx\n"
     ]
    }
   ],
   "source": [
    "# Uploading an Excel file from a local computer\n",
    "uploaded = files.upload()"
   ]
  },
  {
   "cell_type": "code",
   "execution_count": 92,
   "metadata": {
    "id": "L378v_sMypcE"
   },
   "outputs": [],
   "source": [
    "file_name = list(uploaded.keys())[0]\n",
    "df = pd.read_excel(file_name, sheet_name='Sheet1')"
   ]
  },
  {
   "cell_type": "code",
   "execution_count": 93,
   "metadata": {
    "colab": {
     "base_uri": "https://localhost:8080/",
     "height": 261
    },
    "id": "8vHUVjnXyuRA",
    "outputId": "e2ee3173-593b-4bbd-d150-83d2388258d8"
   },
   "outputs": [
    {
     "data": {
      "application/vnd.google.colaboratory.intrinsic+json": {
       "summary": "{\n  \"name\": \"df\",\n  \"rows\": 4,\n  \"fields\": [\n    {\n      \"column\": \"\\u041f\\u0440\\u043e\\u0435\\u043a\\u0442\",\n      \"properties\": {\n        \"dtype\": \"category\",\n        \"num_unique_values\": 1,\n        \"samples\": [\n          \"\\u0414\\u0435\\u043b\\u044c\\u0442\\u0430\"\n        ],\n        \"semantic_type\": \"\",\n        \"description\": \"\"\n      }\n    },\n    {\n      \"column\": \"\\u041d\\u043e\\u043c\\u0435\\u0440 \\u043a\\u0440\\u0435\\u0434\\u0438\\u0442\\u043d\\u043e\\u0433\\u043e \\u0434\\u043e\\u0433\\u043e\\u0432\\u043e\\u0440\\u0443\",\n      \"properties\": {\n        \"dtype\": \"string\",\n        \"num_unique_values\": 2,\n        \"samples\": [\n          12876619000\n        ],\n        \"semantic_type\": \"\",\n        \"description\": \"\"\n      }\n    },\n    {\n      \"column\": \"\\u0421\\u0443\\u043c\\u0430 \\u0431\\u043e\\u0440\\u0433\\u0443, \\u0433\\u0440\\u043d\",\n      \"properties\": {\n        \"dtype\": \"string\",\n        \"num_unique_values\": 2,\n        \"samples\": [\n          \"30000,03\"\n        ],\n        \"semantic_type\": \"\",\n        \"description\": \"\"\n      }\n    },\n    {\n      \"column\": \"\\u0422\\u0438\\u043f \\u043a\\u043b\\u0456\\u0454\\u043d\\u0442\\u0430\",\n      \"properties\": {\n        \"dtype\": \"string\",\n        \"num_unique_values\": 2,\n        \"samples\": [\n          \"\\u0444\\u0456\\u043d\\u0430\\u043d\\u0441\\u043e\\u0432\\u0438\\u0439 \\u043f\\u043e\\u0440\\u0443\\u0447\\u0438\\u0442\\u0435\\u043b\\u044c\"\n        ],\n        \"semantic_type\": \"\",\n        \"description\": \"\"\n      }\n    },\n    {\n      \"column\": \"\\u041f\\u0406\\u0411\",\n      \"properties\": {\n        \"dtype\": \"string\",\n        \"num_unique_values\": 3,\n        \"samples\": [\n          \"\\u0406\\u0432\\u0430\\u043d\\u0435\\u043d\\u043a\\u043e \\u041f\\u0435\\u0442\\u0440\\u043e \\u041c\\u0438\\u0445\\u0430\\u0439\\u043b\\u043e\\u0432\\u0438\\u0447\"\n        ],\n        \"semantic_type\": \"\",\n        \"description\": \"\"\n      }\n    },\n    {\n      \"column\": \"\\u0406\\u041f\\u041d\",\n      \"properties\": {\n        \"dtype\": \"number\",\n        \"std\": 264012734,\n        \"min\": 2049702311,\n        \"max\": 2589712664,\n        \"num_unique_values\": 3,\n        \"samples\": [\n          2049702311\n        ],\n        \"semantic_type\": \"\",\n        \"description\": \"\"\n      }\n    },\n    {\n      \"column\": \"\\u0420\\u0435\\u0433\\u0456\\u043e\\u043d \\u043c\\u0430\\u0439\\u043d\\u0430, \\u0449\\u043e \\u0437\\u043d\\u0430\\u0447\\u0438\\u0442\\u044c\\u0441\\u044f \\u0437\\u0430 \\u043a\\u043b\\u0456\\u0454\\u043d\\u0442\\u043e\\u043c\",\n      \"properties\": {\n        \"dtype\": \"string\",\n        \"num_unique_values\": 2,\n        \"samples\": [\n          \"\\u041f\\u043e\\u043b\\u0442\\u0430\\u0432\\u0441\\u044c\\u043a\\u0430 \\u043e\\u0431\\u043b\\u0430\\u0441\\u0442\\u044c\"\n        ],\n        \"semantic_type\": \"\",\n        \"description\": \"\"\n      }\n    },\n    {\n      \"column\": \"\\u0422\\u0438\\u043f \\u043c\\u0430\\u0439\\u043d\\u0430 \\u043a\\u043b\\u0456\\u0454\\u043d\\u0442\\u0430\",\n      \"properties\": {\n        \"dtype\": \"string\",\n        \"num_unique_values\": 3,\n        \"samples\": [\n          \"\\u0431\\u0443\\u0434\\u0438\\u043d\\u043e\\u043a\"\n        ],\n        \"semantic_type\": \"\",\n        \"description\": \"\"\n      }\n    },\n    {\n      \"column\": \"\\u041f\\u043b\\u043e\\u0449\\u0430 \\u043c\\u0430\\u0439\\u043d\\u0430 \\u043a\\u043b\\u0456\\u0454\\u043d\\u0442\\u0430\",\n      \"properties\": {\n        \"dtype\": \"string\",\n        \"num_unique_values\": 3,\n        \"samples\": [\n          \"193,24\"\n        ],\n        \"semantic_type\": \"\",\n        \"description\": \"\"\n      }\n    },\n    {\n      \"column\": \"\\u041e\\u0446\\u0456\\u043d\\u043a\\u0430 \\u043c\\u0430\\u0439\\u043d\\u0430 \\u043a\\u043b\\u0456\\u0454\\u043d\\u0442\\u0430, \\u0434\\u043e\\u043b\",\n      \"properties\": {\n        \"dtype\": \"string\",\n        \"num_unique_values\": 3,\n        \"samples\": [\n          \"20 000\"\n        ],\n        \"semantic_type\": \"\",\n        \"description\": \"\"\n      }\n    }\n  ]\n}",
       "type": "dataframe",
       "variable_name": "df"
      },
      "text/html": [
       "\n",
       "  <div id=\"df-28ba4ac2-22fa-4fa4-8b24-1d1c305e39f8\" class=\"colab-df-container\">\n",
       "    <div>\n",
       "<style scoped>\n",
       "    .dataframe tbody tr th:only-of-type {\n",
       "        vertical-align: middle;\n",
       "    }\n",
       "\n",
       "    .dataframe tbody tr th {\n",
       "        vertical-align: top;\n",
       "    }\n",
       "\n",
       "    .dataframe thead th {\n",
       "        text-align: right;\n",
       "    }\n",
       "</style>\n",
       "<table border=\"1\" class=\"dataframe\">\n",
       "  <thead>\n",
       "    <tr style=\"text-align: right;\">\n",
       "      <th></th>\n",
       "      <th>Проект</th>\n",
       "      <th>Номер кредитного договору</th>\n",
       "      <th>Сума боргу, грн</th>\n",
       "      <th>Тип клієнта</th>\n",
       "      <th>ПІБ</th>\n",
       "      <th>ІПН</th>\n",
       "      <th>Регіон майна, що значиться за клієнтом</th>\n",
       "      <th>Тип майна клієнта</th>\n",
       "      <th>Площа майна клієнта</th>\n",
       "      <th>Оцінка майна клієнта, дол</th>\n",
       "    </tr>\n",
       "  </thead>\n",
       "  <tbody>\n",
       "    <tr>\n",
       "      <th>0</th>\n",
       "      <td>Дельта</td>\n",
       "      <td>6/8133/3007-840</td>\n",
       "      <td>2050,51</td>\n",
       "      <td>боржник</td>\n",
       "      <td>Іваненко Петро Михайлович</td>\n",
       "      <td>2049702311</td>\n",
       "      <td>Харківська область</td>\n",
       "      <td>будинок</td>\n",
       "      <td>193,24</td>\n",
       "      <td>20 000</td>\n",
       "    </tr>\n",
       "    <tr>\n",
       "      <th>1</th>\n",
       "      <td>Дельта</td>\n",
       "      <td>6/8133/3007-840</td>\n",
       "      <td>2050,51</td>\n",
       "      <td>боржник</td>\n",
       "      <td>Іваненко Петро Михайлович</td>\n",
       "      <td>2049702311</td>\n",
       "      <td>Харківська область</td>\n",
       "      <td>земля</td>\n",
       "      <td>512</td>\n",
       "      <td>5 000</td>\n",
       "    </tr>\n",
       "    <tr>\n",
       "      <th>2</th>\n",
       "      <td>Дельта</td>\n",
       "      <td>12876619000</td>\n",
       "      <td>30000,03</td>\n",
       "      <td>боржник</td>\n",
       "      <td>Петренко Михайло Іванович</td>\n",
       "      <td>2089702343</td>\n",
       "      <td>Полтавська область</td>\n",
       "      <td>квартира</td>\n",
       "      <td>57,2</td>\n",
       "      <td>31 500</td>\n",
       "    </tr>\n",
       "    <tr>\n",
       "      <th>3</th>\n",
       "      <td>Дельта</td>\n",
       "      <td>12876619000</td>\n",
       "      <td>30000,03</td>\n",
       "      <td>фінансовий поручитель</td>\n",
       "      <td>Михайленко Іванна Петрівна</td>\n",
       "      <td>2589712664</td>\n",
       "      <td>NaN</td>\n",
       "      <td>NaN</td>\n",
       "      <td>NaN</td>\n",
       "      <td>NaN</td>\n",
       "    </tr>\n",
       "  </tbody>\n",
       "</table>\n",
       "</div>\n",
       "    <div class=\"colab-df-buttons\">\n",
       "\n",
       "  <div class=\"colab-df-container\">\n",
       "    <button class=\"colab-df-convert\" onclick=\"convertToInteractive('df-28ba4ac2-22fa-4fa4-8b24-1d1c305e39f8')\"\n",
       "            title=\"Convert this dataframe to an interactive table.\"\n",
       "            style=\"display:none;\">\n",
       "\n",
       "  <svg xmlns=\"http://www.w3.org/2000/svg\" height=\"24px\" viewBox=\"0 -960 960 960\">\n",
       "    <path d=\"M120-120v-720h720v720H120Zm60-500h600v-160H180v160Zm220 220h160v-160H400v160Zm0 220h160v-160H400v160ZM180-400h160v-160H180v160Zm440 0h160v-160H620v160ZM180-180h160v-160H180v160Zm440 0h160v-160H620v160Z\"/>\n",
       "  </svg>\n",
       "    </button>\n",
       "\n",
       "  <style>\n",
       "    .colab-df-container {\n",
       "      display:flex;\n",
       "      gap: 12px;\n",
       "    }\n",
       "\n",
       "    .colab-df-convert {\n",
       "      background-color: #E8F0FE;\n",
       "      border: none;\n",
       "      border-radius: 50%;\n",
       "      cursor: pointer;\n",
       "      display: none;\n",
       "      fill: #1967D2;\n",
       "      height: 32px;\n",
       "      padding: 0 0 0 0;\n",
       "      width: 32px;\n",
       "    }\n",
       "\n",
       "    .colab-df-convert:hover {\n",
       "      background-color: #E2EBFA;\n",
       "      box-shadow: 0px 1px 2px rgba(60, 64, 67, 0.3), 0px 1px 3px 1px rgba(60, 64, 67, 0.15);\n",
       "      fill: #174EA6;\n",
       "    }\n",
       "\n",
       "    .colab-df-buttons div {\n",
       "      margin-bottom: 4px;\n",
       "    }\n",
       "\n",
       "    [theme=dark] .colab-df-convert {\n",
       "      background-color: #3B4455;\n",
       "      fill: #D2E3FC;\n",
       "    }\n",
       "\n",
       "    [theme=dark] .colab-df-convert:hover {\n",
       "      background-color: #434B5C;\n",
       "      box-shadow: 0px 1px 3px 1px rgba(0, 0, 0, 0.15);\n",
       "      filter: drop-shadow(0px 1px 2px rgba(0, 0, 0, 0.3));\n",
       "      fill: #FFFFFF;\n",
       "    }\n",
       "  </style>\n",
       "\n",
       "    <script>\n",
       "      const buttonEl =\n",
       "        document.querySelector('#df-28ba4ac2-22fa-4fa4-8b24-1d1c305e39f8 button.colab-df-convert');\n",
       "      buttonEl.style.display =\n",
       "        google.colab.kernel.accessAllowed ? 'block' : 'none';\n",
       "\n",
       "      async function convertToInteractive(key) {\n",
       "        const element = document.querySelector('#df-28ba4ac2-22fa-4fa4-8b24-1d1c305e39f8');\n",
       "        const dataTable =\n",
       "          await google.colab.kernel.invokeFunction('convertToInteractive',\n",
       "                                                    [key], {});\n",
       "        if (!dataTable) return;\n",
       "\n",
       "        const docLinkHtml = 'Like what you see? Visit the ' +\n",
       "          '<a target=\"_blank\" href=https://colab.research.google.com/notebooks/data_table.ipynb>data table notebook</a>'\n",
       "          + ' to learn more about interactive tables.';\n",
       "        element.innerHTML = '';\n",
       "        dataTable['output_type'] = 'display_data';\n",
       "        await google.colab.output.renderOutput(dataTable, element);\n",
       "        const docLink = document.createElement('div');\n",
       "        docLink.innerHTML = docLinkHtml;\n",
       "        element.appendChild(docLink);\n",
       "      }\n",
       "    </script>\n",
       "  </div>\n",
       "\n",
       "\n",
       "<div id=\"df-ac932abe-d06a-4611-9034-9b025060e4e4\">\n",
       "  <button class=\"colab-df-quickchart\" onclick=\"quickchart('df-ac932abe-d06a-4611-9034-9b025060e4e4')\"\n",
       "            title=\"Suggest charts\"\n",
       "            style=\"display:none;\">\n",
       "\n",
       "<svg xmlns=\"http://www.w3.org/2000/svg\" height=\"24px\"viewBox=\"0 0 24 24\"\n",
       "     width=\"24px\">\n",
       "    <g>\n",
       "        <path d=\"M19 3H5c-1.1 0-2 .9-2 2v14c0 1.1.9 2 2 2h14c1.1 0 2-.9 2-2V5c0-1.1-.9-2-2-2zM9 17H7v-7h2v7zm4 0h-2V7h2v10zm4 0h-2v-4h2v4z\"/>\n",
       "    </g>\n",
       "</svg>\n",
       "  </button>\n",
       "\n",
       "<style>\n",
       "  .colab-df-quickchart {\n",
       "      --bg-color: #E8F0FE;\n",
       "      --fill-color: #1967D2;\n",
       "      --hover-bg-color: #E2EBFA;\n",
       "      --hover-fill-color: #174EA6;\n",
       "      --disabled-fill-color: #AAA;\n",
       "      --disabled-bg-color: #DDD;\n",
       "  }\n",
       "\n",
       "  [theme=dark] .colab-df-quickchart {\n",
       "      --bg-color: #3B4455;\n",
       "      --fill-color: #D2E3FC;\n",
       "      --hover-bg-color: #434B5C;\n",
       "      --hover-fill-color: #FFFFFF;\n",
       "      --disabled-bg-color: #3B4455;\n",
       "      --disabled-fill-color: #666;\n",
       "  }\n",
       "\n",
       "  .colab-df-quickchart {\n",
       "    background-color: var(--bg-color);\n",
       "    border: none;\n",
       "    border-radius: 50%;\n",
       "    cursor: pointer;\n",
       "    display: none;\n",
       "    fill: var(--fill-color);\n",
       "    height: 32px;\n",
       "    padding: 0;\n",
       "    width: 32px;\n",
       "  }\n",
       "\n",
       "  .colab-df-quickchart:hover {\n",
       "    background-color: var(--hover-bg-color);\n",
       "    box-shadow: 0 1px 2px rgba(60, 64, 67, 0.3), 0 1px 3px 1px rgba(60, 64, 67, 0.15);\n",
       "    fill: var(--button-hover-fill-color);\n",
       "  }\n",
       "\n",
       "  .colab-df-quickchart-complete:disabled,\n",
       "  .colab-df-quickchart-complete:disabled:hover {\n",
       "    background-color: var(--disabled-bg-color);\n",
       "    fill: var(--disabled-fill-color);\n",
       "    box-shadow: none;\n",
       "  }\n",
       "\n",
       "  .colab-df-spinner {\n",
       "    border: 2px solid var(--fill-color);\n",
       "    border-color: transparent;\n",
       "    border-bottom-color: var(--fill-color);\n",
       "    animation:\n",
       "      spin 1s steps(1) infinite;\n",
       "  }\n",
       "\n",
       "  @keyframes spin {\n",
       "    0% {\n",
       "      border-color: transparent;\n",
       "      border-bottom-color: var(--fill-color);\n",
       "      border-left-color: var(--fill-color);\n",
       "    }\n",
       "    20% {\n",
       "      border-color: transparent;\n",
       "      border-left-color: var(--fill-color);\n",
       "      border-top-color: var(--fill-color);\n",
       "    }\n",
       "    30% {\n",
       "      border-color: transparent;\n",
       "      border-left-color: var(--fill-color);\n",
       "      border-top-color: var(--fill-color);\n",
       "      border-right-color: var(--fill-color);\n",
       "    }\n",
       "    40% {\n",
       "      border-color: transparent;\n",
       "      border-right-color: var(--fill-color);\n",
       "      border-top-color: var(--fill-color);\n",
       "    }\n",
       "    60% {\n",
       "      border-color: transparent;\n",
       "      border-right-color: var(--fill-color);\n",
       "    }\n",
       "    80% {\n",
       "      border-color: transparent;\n",
       "      border-right-color: var(--fill-color);\n",
       "      border-bottom-color: var(--fill-color);\n",
       "    }\n",
       "    90% {\n",
       "      border-color: transparent;\n",
       "      border-bottom-color: var(--fill-color);\n",
       "    }\n",
       "  }\n",
       "</style>\n",
       "\n",
       "  <script>\n",
       "    async function quickchart(key) {\n",
       "      const quickchartButtonEl =\n",
       "        document.querySelector('#' + key + ' button');\n",
       "      quickchartButtonEl.disabled = true;  // To prevent multiple clicks.\n",
       "      quickchartButtonEl.classList.add('colab-df-spinner');\n",
       "      try {\n",
       "        const charts = await google.colab.kernel.invokeFunction(\n",
       "            'suggestCharts', [key], {});\n",
       "      } catch (error) {\n",
       "        console.error('Error during call to suggestCharts:', error);\n",
       "      }\n",
       "      quickchartButtonEl.classList.remove('colab-df-spinner');\n",
       "      quickchartButtonEl.classList.add('colab-df-quickchart-complete');\n",
       "    }\n",
       "    (() => {\n",
       "      let quickchartButtonEl =\n",
       "        document.querySelector('#df-ac932abe-d06a-4611-9034-9b025060e4e4 button');\n",
       "      quickchartButtonEl.style.display =\n",
       "        google.colab.kernel.accessAllowed ? 'block' : 'none';\n",
       "    })();\n",
       "  </script>\n",
       "</div>\n",
       "    </div>\n",
       "  </div>\n"
      ],
      "text/plain": [
       "   Проект Номер кредитного договору Сума боргу, грн            Тип клієнта  \\\n",
       "0  Дельта           6/8133/3007-840         2050,51                боржник   \n",
       "1  Дельта           6/8133/3007-840         2050,51                боржник   \n",
       "2  Дельта               12876619000        30000,03                боржник   \n",
       "3  Дельта               12876619000        30000,03  фінансовий поручитель   \n",
       "\n",
       "                          ПІБ         ІПН  \\\n",
       "0   Іваненко Петро Михайлович  2049702311   \n",
       "1   Іваненко Петро Михайлович  2049702311   \n",
       "2   Петренко Михайло Іванович  2089702343   \n",
       "3  Михайленко Іванна Петрівна  2589712664   \n",
       "\n",
       "  Регіон майна, що значиться за клієнтом Тип майна клієнта  \\\n",
       "0                     Харківська область           будинок   \n",
       "1                     Харківська область             земля   \n",
       "2                     Полтавська область          квартира   \n",
       "3                                    NaN               NaN   \n",
       "\n",
       "  Площа майна клієнта Оцінка майна клієнта, дол  \n",
       "0              193,24                    20 000  \n",
       "1                 512                     5 000  \n",
       "2                57,2                    31 500  \n",
       "3                 NaN                       NaN  "
      ]
     },
     "execution_count": 93,
     "metadata": {},
     "output_type": "execute_result"
    }
   ],
   "source": [
    "df.head()\n"
   ]
  },
  {
   "cell_type": "code",
   "execution_count": 94,
   "metadata": {
    "colab": {
     "base_uri": "https://localhost:8080/",
     "height": 397
    },
    "id": "ZRWGtf5wAHEt",
    "outputId": "f7f4e89a-9605-4852-b976-ec0c15fede9f"
   },
   "outputs": [
    {
     "data": {
      "text/html": [
       "<table border=\"1\" class=\"dataframe\">\n",
       "  <thead>\n",
       "    <tr style=\"text-align: right;\">\n",
       "      <th></th>\n",
       "      <th>0</th>\n",
       "    </tr>\n",
       "  </thead>\n",
       "  <tbody>\n",
       "    <tr>\n",
       "      <th>Проект</th>\n",
       "      <td>object</td>\n",
       "    </tr>\n",
       "    <tr>\n",
       "      <th>Номер кредитного договору</th>\n",
       "      <td>object</td>\n",
       "    </tr>\n",
       "    <tr>\n",
       "      <th>Сума боргу, грн</th>\n",
       "      <td>object</td>\n",
       "    </tr>\n",
       "    <tr>\n",
       "      <th>Тип клієнта</th>\n",
       "      <td>object</td>\n",
       "    </tr>\n",
       "    <tr>\n",
       "      <th>ПІБ</th>\n",
       "      <td>object</td>\n",
       "    </tr>\n",
       "    <tr>\n",
       "      <th>ІПН</th>\n",
       "      <td>int64</td>\n",
       "    </tr>\n",
       "    <tr>\n",
       "      <th>Регіон майна, що значиться за клієнтом</th>\n",
       "      <td>object</td>\n",
       "    </tr>\n",
       "    <tr>\n",
       "      <th>Тип майна клієнта</th>\n",
       "      <td>object</td>\n",
       "    </tr>\n",
       "    <tr>\n",
       "      <th>Площа майна клієнта</th>\n",
       "      <td>object</td>\n",
       "    </tr>\n",
       "    <tr>\n",
       "      <th>Оцінка майна клієнта, дол</th>\n",
       "      <td>object</td>\n",
       "    </tr>\n",
       "  </tbody>\n",
       "</table><br><label><b>dtype:</b> object</label>"
      ],
      "text/plain": [
       "Проект                                    object\n",
       "Номер кредитного договору                 object\n",
       "Сума боргу, грн                           object\n",
       "Тип клієнта                               object\n",
       "ПІБ                                       object\n",
       "ІПН                                        int64\n",
       "Регіон майна, що значиться за клієнтом    object\n",
       "Тип майна клієнта                         object\n",
       "Площа майна клієнта                       object\n",
       "Оцінка майна клієнта, дол                 object\n",
       "dtype: object"
      ]
     },
     "execution_count": 94,
     "metadata": {},
     "output_type": "execute_result"
    }
   ],
   "source": [
    "df.dtypes"
   ]
  },
  {
   "cell_type": "code",
   "execution_count": 95,
   "metadata": {
    "id": "lVGJB3UTAb8k"
   },
   "outputs": [],
   "source": [
    "# Converting incompatible data types\n",
    "df['Сума боргу, грн'] = df['Сума боргу, грн'].str.replace(',', '.', regex=False).astype('float')\n",
    "df['Площа майна клієнта'] = df['Площа майна клієнта'].str.replace(',', '.', regex=False).astype('float')\n",
    "df['Оцінка майна клієнта, дол'] = df['Оцінка майна клієнта, дол'].str.replace(' ', '', regex=False).astype('float')"
   ]
  },
  {
   "cell_type": "code",
   "execution_count": 96,
   "metadata": {
    "id": "ZHem9Yqn4E0M"
   },
   "outputs": [],
   "source": [
    "# Creating missing columns with corresponding IDs and generating column content\n",
    "df['Id_contract'] = np.random.randint(10000, 100000, size=len(df))\n",
    "df['Id_client'] = np.random.randint(1000, 10000, size=len(df))\n",
    "df['Id_property'] = np.random.randint(100, 1000, size=len(df))"
   ]
  },
  {
   "cell_type": "code",
   "execution_count": 98,
   "metadata": {
    "id": "OjAww1z3y-OA"
   },
   "outputs": [],
   "source": [
    "df[['Surname', 'Name', 'SecondName']] = df['ПІБ'].str.split(' ', expand=True)"
   ]
  },
  {
   "cell_type": "code",
   "execution_count": 99,
   "metadata": {
    "id": "XBvWmYhAzTaA"
   },
   "outputs": [],
   "source": [
    "# Creating a DataFrame for each table\n",
    "contracts = df[['Id_contract','Проект', 'Номер кредитного договору', 'Сума боргу, грн']].drop_duplicates()\n",
    "contracts.columns = ['Id','ProjectName', 'ContractNum', 'Outstanding']\n",
    "\n",
    "clients = df[['Id_client', 'Surname', 'Name', 'SecondName', 'ІПН']].drop_duplicates()\n",
    "clients.columns = ['Id', 'Surname', 'Name', 'SecondName', 'IdentificationNumber']\n",
    "\n",
    "properties = df[['Id_property','Регіон майна, що значиться за клієнтом', 'Тип майна клієнта', 'Площа майна клієнта', 'Оцінка майна клієнта, дол']].drop_duplicates()\n",
    "properties.columns = ['Id','Region', 'PropertyType', 'PropertyArea', 'PropertyPrice']\n"
   ]
  },
  {
   "cell_type": "code",
   "execution_count": 101,
   "metadata": {
    "id": "kymL3hMbz7IQ"
   },
   "outputs": [],
   "source": [
    "# Assigning project and dataset IDs\n",
    "project_id = 'database-project-431312'\n",
    "dataset_id = 'clients'"
   ]
  },
  {
   "cell_type": "code",
   "execution_count": 111,
   "metadata": {
    "id": "AM8d_gS614up"
   },
   "outputs": [],
   "source": [
    "# Checking and changing data types\n",
    "contracts['ProjectName'] = contracts['ProjectName'].astype(str)\n",
    "contracts['ContractNum'] = contracts['ContractNum'].astype(str)\n",
    "contracts['Outstanding'] = pd.to_numeric(contracts['Outstanding'], errors='coerce')\n",
    "\n",
    "clients['Surname'] = clients['Surname'].astype(str)\n",
    "clients['Name'] = clients['Name'].astype(str)\n",
    "clients['SecondName'] = clients['SecondName'].astype(str)\n",
    "clients['IdentificationNumber'] = clients['IdentificationNumber'].astype(str)\n",
    "\n",
    "properties['Region'] = properties['Region'].astype(str)\n",
    "properties['PropertyType'] = properties['PropertyType'].astype(str)\n",
    "properties['PropertyArea'] = pd.to_numeric(properties['PropertyArea'], errors='coerce')\n",
    "properties['PropertyPrice'] = pd.to_numeric(properties['PropertyPrice'], errors='coerce')\n",
    "\n",
    "# Filling NaN values\n",
    "contracts = contracts.fillna(value=np.nan)\n",
    "properties = properties.fillna(value=np.nan)"
   ]
  },
  {
   "cell_type": "code",
   "execution_count": 108,
   "metadata": {
    "colab": {
     "base_uri": "https://localhost:8080/"
    },
    "id": "ODG64hRm70fB",
    "outputId": "e3004ec0-dea7-4fbb-8df9-97ff7953a44a"
   },
   "outputs": [
    {
     "name": "stderr",
     "output_type": "stream",
     "text": [
      "100%|██████████| 1/1 [00:00<00:00, 7639.90it/s]\n"
     ]
    }
   ],
   "source": [
    "to_gbq(clients, f'{dataset_id}.Client', project_id=project_id, if_exists='append')"
   ]
  },
  {
   "cell_type": "code",
   "execution_count": 109,
   "metadata": {
    "colab": {
     "base_uri": "https://localhost:8080/"
    },
    "id": "bRquAVBQ8dZd",
    "outputId": "a93ad466-0c21-4269-c9b5-5ede091718c1"
   },
   "outputs": [
    {
     "name": "stderr",
     "output_type": "stream",
     "text": [
      "100%|██████████| 1/1 [00:00<00:00, 1800.90it/s]\n"
     ]
    }
   ],
   "source": [
    "to_gbq(contracts, f'{dataset_id}.Contract', project_id=project_id, if_exists='append')"
   ]
  },
  {
   "cell_type": "code",
   "execution_count": 110,
   "metadata": {
    "colab": {
     "base_uri": "https://localhost:8080/"
    },
    "id": "c_UmcsPiLfLu",
    "outputId": "07923498-a454-409f-daf5-43bb2e62403d"
   },
   "outputs": [
    {
     "name": "stderr",
     "output_type": "stream",
     "text": [
      "100%|██████████| 1/1 [00:00<00:00, 801.36it/s]\n"
     ]
    }
   ],
   "source": [
    "to_gbq(properties, f'{dataset_id}.Property', project_id=project_id, if_exists='append')"
   ]
  },
  {
   "cell_type": "markdown",
   "metadata": {
    "id": "8kUmFevZyaSW"
   },
   "source": []
  }
 ],
 "metadata": {
  "colab": {
   "provenance": []
  },
  "kernelspec": {
   "display_name": "Python 3 (ipykernel)",
   "language": "python",
   "name": "python3"
  },
  "language_info": {
   "codemirror_mode": {
    "name": "ipython",
    "version": 3
   },
   "file_extension": ".py",
   "mimetype": "text/x-python",
   "name": "python",
   "nbconvert_exporter": "python",
   "pygments_lexer": "ipython3",
   "version": "3.10.12"
  }
 },
 "nbformat": 4,
 "nbformat_minor": 1
}
